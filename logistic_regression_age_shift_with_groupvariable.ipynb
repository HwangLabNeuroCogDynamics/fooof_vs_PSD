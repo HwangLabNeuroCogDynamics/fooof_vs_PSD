{
 "cells": [
  {
   "cell_type": "code",
   "execution_count": 1,
   "metadata": {},
   "outputs": [],
   "source": [
    "import pandas as pd\n",
    "import os\n",
    "import numpy as np\n",
    "import statsmodels.api as sm\n",
    "import statsmodels.formula.api as smf\n",
    "import seaborn as sns\n",
    "import matplotlib.pyplot as plt\n",
    "from scipy.stats import chisquare, chi2_contingency\n",
    "from scipy.special import expit"
   ]
  },
  {
   "cell_type": "code",
   "execution_count": 14,
   "metadata": {},
   "outputs": [],
   "source": [
    "csvDir_young='/data/backed_up/shared/dev_1_f/group_fooof/all_sub_results_RestingState_psdWelch512_fmax40_max4peaks_alpha8to12.csv'\n",
    "csvDir_old='/data/backed_up/shared/CMI_data/MIPDB/preproc_rerun_fooofs/all_sub_results_psdWelch512_fmax40_adjustedPeaks_max4peaks_alpha8to12_05_01_2020.csv'\n",
    "\n",
    "dat_young=pd.read_csv(csvDir_young)\n",
    "dat_old=pd.read_csv(csvDir_old)\n",
    "\n",
    "\n",
    "# have to rename the columns for the young dataset because they only have 'eyes open' and no \"eyes closed\"\n",
    "\n",
    "rename_dict={a:(a[:3]+'EO_'+a[3:]) for a in dat_young.columns if a not in ['sub','age'] }\n",
    "dat_young=dat_young.rename(columns=rename_dict)\n",
    "\n",
    "#create grouping variable\n",
    "dat_young['data_group'] = 1\n",
    "dat_old['data_group'] = 0\n",
    "\n",
    "# and then combine the datasets\n",
    "both_sets=pd.concat([dat_young,dat_old])"
   ]
  },
  {
   "cell_type": "code",
   "execution_count": 4,
   "metadata": {},
   "outputs": [
    {
     "data": {
      "text/plain": [
       "Index(['UnnEO_amed: 0', 'sub', 'age', 'PO_EO_slope', 'PO_EO_yint',\n",
       "       'MF_EO_slope', 'MF_EO_yint', 'PO_EO_alphaPeak', 'PO_EO_alphaBW',\n",
       "       'PO_EO_alphaAMP', 'PO_EO_betaPeak', 'PO_EO_betaBW', 'PO_EO_betaAMP',\n",
       "       'PO_EO_thetaPeak', 'PO_EO_thetaBW', 'PO_EO_thetaAMP', 'MF_EO_alphaPeak',\n",
       "       'MF_EO_alphaBW', 'MF_EO_alphaAMP', 'MF_EO_betaPeak', 'MF_EO_betaBW',\n",
       "       'MF_EO_betaAMP', 'MF_EO_thetaPeak', 'MF_EO_thetaBW', 'MF_EO_thetaAMP',\n",
       "       'MF_EO_Peak_1', 'MF_EO_AMP_1', 'MF_EO_BW_1', 'PO_EO_Peak_1',\n",
       "       'PO_EO_AMP_1', 'PO_EO_BW_1', 'PO_EO_Peak_2', 'PO_EO_AMP_2',\n",
       "       'PO_EO_BW_2', 'MF_EO_Peak_2', 'MF_EO_AMP_2', 'MF_EO_BW_2',\n",
       "       'PO_EO_Peak_3', 'PO_EO_AMP_3', 'PO_EO_BW_3', 'datEO_a_group', 'sex',\n",
       "       'PO_EC_slope', 'PO_EC_yint', 'MF_EC_slope', 'MF_EC_yint',\n",
       "       'PO_EC_alphaPeak', 'PO_EC_alphaBW', 'PO_EC_alphaAMP', 'PO_EC_betaPeak',\n",
       "       'PO_EC_betaBW', 'PO_EC_betaAMP', 'PO_EC_thetaPeak', 'PO_EC_thetaBW',\n",
       "       'PO_EC_thetaAMP', 'MF_EC_alphaPeak', 'MF_EC_alphaBW', 'MF_EC_alphaAMP',\n",
       "       'MF_EC_betaPeak', 'MF_EC_betaBW', 'MF_EC_betaAMP', 'MF_EC_thetaPeak',\n",
       "       'MF_EC_thetaBW', 'MF_EC_thetaAMP', 'PO_EC_Peak_1', 'PO_EC_AMP_1',\n",
       "       'PO_EC_BW_1', 'MF_EC_Peak_1', 'MF_EC_AMP_1', 'MF_EC_BW_1',\n",
       "       'MF_EC_Peak_2', 'MF_EC_AMP_2', 'MF_EC_BW_2', 'MF_EO_Peak_3',\n",
       "       'MF_EO_AMP_3', 'MF_EO_BW_3', 'MF_EO_Peak_4', 'MF_EO_AMP_4',\n",
       "       'MF_EO_BW_4', 'PO_EC_Peak_2', 'PO_EC_AMP_2', 'PO_EC_BW_2',\n",
       "       'MF_EC_Peak_3', 'MF_EC_AMP_3', 'MF_EC_BW_3', 'PO_EC_Peak_3',\n",
       "       'PO_EC_AMP_3', 'PO_EC_BW_3', 'PO_EC_Peak_4', 'PO_EC_AMP_4',\n",
       "       'PO_EC_BW_4', 'PO_EO_Peak_4', 'PO_EO_AMP_4', 'PO_EO_BW_4',\n",
       "       'MF_EC_Peak_4', 'MF_EC_AMP_4', 'MF_EC_BW_4', 'data_group'],\n",
       "      dtype='object')"
      ]
     },
     "execution_count": 4,
     "metadata": {},
     "output_type": "execute_result"
    }
   ],
   "source": [
    "both_sets.columns"
   ]
  },
  {
   "cell_type": "markdown",
   "metadata": {},
   "source": [
    "## Identifying max peaks per subject"
   ]
  },
  {
   "cell_type": "code",
   "execution_count": 23,
   "metadata": {},
   "outputs": [],
   "source": [
    "#extracting highest power peaks within each frequency band, and running a regression of power/frequency by age\n",
    "\n",
    "MF_EC_BandPeaksDf=pd.DataFrame()\n",
    "MF_EO_BandPeaksDf=pd.DataFrame()\n",
    "PO_EC_BandPeaksDf=pd.DataFrame()\n",
    "PO_EO_BandPeaksDf=pd.DataFrame()\n",
    "\n",
    "# loop thru row for each subject\n",
    "for row in range(len(both_sets)):\n",
    "    thisRow=both_sets.iloc[row]\n",
    "    thisSub=thisRow['sub']\n",
    "    thisAge=thisRow['age']\n",
    "    thisSex=thisRow['sex']\n",
    "    thisGroup=thisRow['data_group']\n",
    "    \n",
    "    # set up temporary dictionaries to keep track of high peak power for this sub\n",
    "    dict_keys=['maxAlpha_power','maxAlpha_freq','maxTheta_power', 'maxTheta_freq',\n",
    "           'maxDelta_power', 'maxDelta_freq','maxBeta_power', 'maxBeta_freq',\n",
    "              'maxthetaTOalpha_power','maxthetaTOalpha_freq']\n",
    "    elec_clusters={'MF_EC':{},'MF_EO':{},'PO_EC':{},'PO_EO':{}}\n",
    "    \n",
    "    for key in elec_clusters.keys():\n",
    "        for maxs in dict_keys:\n",
    "            elec_clusters[key][maxs]=np.nan\n",
    "    \n",
    "    # loop thru columns to find appropriate peaks\n",
    "    for col in both_sets.columns:\n",
    "        for elec_cluster in elec_clusters.keys():\n",
    "            if (elec_cluster in col) and (\"_Peak_\" in col):\n",
    "                # we have to loop thru the types of peaks, and find the ones that \n",
    "                # fall within each delta, theta, alpha, beta range\n",
    "                # Once found, we want to extract the ones w highest power and store them\n",
    "\n",
    "                thisPeak=thisRow[col]\n",
    "                thisPeakNum=col[-1] #get the peak number so we can find the corresponding AMP\n",
    "                thisAMP=thisRow[elec_cluster+'_AMP_'+thisPeakNum] # get the amplitude of this peak\n",
    "                \n",
    "                if 4 <= thisPeak <=12: # if this peak is within the theta-alpha range\n",
    "                    if np.isnan(elec_clusters[elec_cluster]['maxthetaTOalpha_power']) or (thisAMP > elec_clusters[elec_cluster]['maxAlpha_power']): # and this alpha peak is the highest we've found,\n",
    "                        elec_clusters[elec_cluster]['maxthetaTOalpha_power']=thisAMP # replace our known 'max' with this one\n",
    "                        elec_clusters[elec_cluster]['maxthetaTOalpha_freq']=thisPeak\n",
    "\n",
    "                if 8 <= thisPeak <=12: # if this peak is within the alpha range\n",
    "                    if np.isnan(elec_clusters[elec_cluster]['maxAlpha_power']) or (thisAMP > elec_clusters[elec_cluster]['maxAlpha_power']): # and this alpha peak is the highest we've found,\n",
    "                        elec_clusters[elec_cluster]['maxAlpha_power']=thisAMP # replace our known 'max' with this one\n",
    "                        elec_clusters[elec_cluster]['maxAlpha_freq']=thisPeak\n",
    "                        \n",
    "                if thisPeak <4:\n",
    "                    if np.isnan(elec_clusters[elec_cluster]['maxDelta_power']) or (thisAMP > elec_clusters[elec_cluster]['maxDelta_power']):\n",
    "                        elec_clusters[elec_cluster]['maxDelta_power']=thisAMP\n",
    "                        elec_clusters[elec_cluster]['maxDelta_freq']=thisPeak\n",
    "                \n",
    "                if 4<= thisPeak < 8:\n",
    "                    if np.isnan(elec_clusters[elec_cluster]['maxTheta_power']) or (thisAMP > elec_clusters[elec_cluster]['maxTheta_power']):\n",
    "                        elec_clusters[elec_cluster]['maxTheta_power']=thisAMP\n",
    "                        elec_clusters[elec_cluster]['maxTheta_freq']=thisPeak\n",
    "                \n",
    "                if thisPeak >12:\n",
    "                    if np.isnan(elec_clusters[elec_cluster]['maxBeta_power']) or (thisAMP> elec_clusters[elec_cluster]['maxBeta_power']):\n",
    "                        elec_clusters[elec_cluster]['maxBeta_power']=thisAMP\n",
    "                        elec_clusters[elec_cluster]['maxBeta_freq']=thisPeak\n",
    "                        \n",
    "    # once we've found all of the peaks, we want to save this out into our seperate df's for this sub\n",
    "    for key in elec_clusters.keys():\n",
    "        elec_clusters[key]['sub']=thisSub\n",
    "        elec_clusters[key]['age']=thisAge\n",
    "        elec_clusters[key]['sex']=thisSex\n",
    "        elec_clusters[key]['data_group']=thisGroup\n",
    "        \n",
    "    MF_EC_BandPeaksDf=MF_EC_BandPeaksDf.append(elec_clusters['MF_EC'],ignore_index=True)\n",
    "    MF_EO_BandPeaksDf=MF_EO_BandPeaksDf.append(elec_clusters['MF_EO'],ignore_index=True)\n",
    "    PO_EC_BandPeaksDf=PO_EC_BandPeaksDf.append(elec_clusters['PO_EC'],ignore_index=True)\n",
    "    PO_EO_BandPeaksDf=PO_EO_BandPeaksDf.append(elec_clusters['PO_EO'],ignore_index=True) "
   ]
  },
  {
   "cell_type": "code",
   "execution_count": 24,
   "metadata": {},
   "outputs": [
    {
     "data": {
      "text/plain": [
       "Index(['age', 'data_group', 'maxAlpha_freq', 'maxAlpha_power', 'maxBeta_freq',\n",
       "       'maxBeta_power', 'maxDelta_freq', 'maxDelta_power', 'maxTheta_freq',\n",
       "       'maxTheta_power', 'maxthetaTOalpha_freq', 'maxthetaTOalpha_power',\n",
       "       'sex', 'sub'],\n",
       "      dtype='object')"
      ]
     },
     "execution_count": 24,
     "metadata": {},
     "output_type": "execute_result"
    }
   ],
   "source": [
    "PO_EO_BandPeaksDf.columns"
   ]
  },
  {
   "cell_type": "code",
   "execution_count": 17,
   "metadata": {},
   "outputs": [
    {
     "data": {
      "text/plain": [
       "array([1, 1, 1, 1, 1, 1, 1, 1, 1, 1, 1, 1, 1, 1, 1, 1, 1, 1, 1, 1, 1, 1,\n",
       "       1, 1, 1, 1, 1, 1, 1, 1, 1, 1, 1, 1, 1, 1, 1, 1, 1, 1, 1, 1, 1, 1,\n",
       "       1, 1, 1, 1, 1, 1, 1, 1, 1, 1, 1, 1, 1, 1, 1, 0, 0, 0, 0, 0, 0, 0,\n",
       "       0, 0, 0, 0, 0, 0, 0, 0, 0, 0, 0, 0, 0, 0, 0, 0, 0, 0, 0, 0, 0, 0,\n",
       "       0, 0, 0, 0, 0, 0, 0, 0, 0, 0, 0, 0, 0, 0, 0, 0, 0, 0, 0, 0, 0, 0,\n",
       "       0, 0, 0, 0, 0, 0])"
      ]
     },
     "execution_count": 17,
     "metadata": {},
     "output_type": "execute_result"
    }
   ],
   "source": [
    "\n",
    "both_sets['data_group'].values\n"
   ]
  },
  {
   "cell_type": "markdown",
   "metadata": {},
   "source": [
    "## Logistic regression"
   ]
  },
  {
   "cell_type": "code",
   "execution_count": 28,
   "metadata": {},
   "outputs": [
    {
     "name": "stdout",
     "output_type": "stream",
     "text": [
      "[4.638356164, 4.484931507, 2.997260274, 6.071038251, 13.0, 10.0, 8.0, 13.0, 10.0, 9.0, 14.0, 8.0, 9.0, 19.0, 24.0, 13.0, 24.0, 22.0, 23.0, 12.0, 14.0, 13.0, 17.0, 8.0, 15.0, 12.0, 9.0, 12.0, 9.0, 9.0, 24.0, 17.0, 14.0, 12.0, 13.0, 13.0, 11.0, 16.0, 13.0, 10.0, 18.0, 10.0, 14.0, 15.0, 22.0, 11.0, 10.0, 14.0, 23.0, 10.0, 14.0, 11.0, 15.0, 8.0]\n",
      "[2.997260274, 4.484931507, 4.638356164, 6.071038251, 8.0, 8.0, 8.0, 8.0, 9.0, 9.0, 9.0, 9.0, 9.0, 10.0, 10.0, 10.0, 10.0, 10.0, 10.0, 11.0, 11.0, 11.0, 12.0, 12.0, 12.0, 12.0, 13.0, 13.0, 13.0, 13.0, 13.0, 13.0, 13.0, 14.0, 14.0, 14.0, 14.0, 14.0, 14.0, 15.0, 15.0, 15.0, 16.0, 17.0, 17.0, 18.0, 19.0, 22.0, 22.0, 23.0, 23.0, 24.0, 24.0, 24.0]\n",
      "54\n"
     ]
    }
   ],
   "source": [
    "x_alpha=list(PO_EO_BandPeaksDf[np.isfinite(PO_EO_BandPeaksDf['maxAlpha_freq'])].age)\n",
    "print(x_alpha)\n",
    "x_alpha.sort()\n",
    "print(x_alpha)\n",
    "print(len(x_alpha))"
   ]
  },
  {
   "cell_type": "code",
   "execution_count": 72,
   "metadata": {},
   "outputs": [],
   "source": [
    "x_alpha=list(PO_EO_BandPeaksDf[np.isfinite(PO_EO_BandPeaksDf['maxAlpha_freq'])].age)\n",
    "x_alpha_group=list(PO_EO_BandPeaksDf[np.isfinite(PO_EO_BandPeaksDf['maxAlpha_freq'])].data_group)\n",
    "#x_alpha.sort()\n",
    "alpha_labels=['alpha']*len(x_alpha)\n",
    "y_alpha=[1]*len(x_alpha)\n",
    "\n",
    "x_theta=list(PO_EO_BandPeaksDf[np.isfinite(PO_EO_BandPeaksDf['maxTheta_freq'])].age)\n",
    "x_theta_group=list(PO_EO_BandPeaksDf[np.isfinite(PO_EO_BandPeaksDf['maxTheta_freq'])].data_group)\n",
    "\n",
    "#x_theta.sort()\n",
    "theta_labels=['theta']*len(x_theta)\n",
    "y_theta=[0]*len(x_theta)\n",
    "\n",
    "ys=np.asarray(y_theta+y_alpha) # concatenate the arrays\n",
    "xs=np.asarray(x_theta+x_alpha).reshape(-1,1)\n",
    "\n",
    "xs=sm.add_constant(xs)\n",
    "xs = np.column_stack((xs,np.array(x_theta_group+x_alpha_group)))\n"
   ]
  },
  {
   "cell_type": "code",
   "execution_count": 73,
   "metadata": {},
   "outputs": [
    {
     "data": {
      "text/plain": [
       "array([[ 1.        ,  3.00547945,  1.        ],\n",
       "       [ 1.        ,  5.29041096,  1.        ],\n",
       "       [ 1.        ,  5.27671233,  1.        ],\n",
       "       [ 1.        ,  4.49041096,  1.        ],\n",
       "       [ 1.        ,  3.86027397,  1.        ],\n",
       "       [ 1.        ,  2.95068493,  1.        ],\n",
       "       [ 1.        ,  3.71780822,  1.        ],\n",
       "       [ 1.        ,  4.49589041,  1.        ],\n",
       "       [ 1.        ,  3.79726027,  1.        ],\n",
       "       [ 1.        ,  3.76438356,  1.        ],\n",
       "       [ 1.        ,  2.97808219,  1.        ],\n",
       "       [ 1.        ,  3.82191781,  1.        ],\n",
       "       [ 1.        ,  3.77260274,  1.        ],\n",
       "       [ 1.        ,  5.26027397,  1.        ],\n",
       "       [ 1.        ,  3.75616438,  1.        ],\n",
       "       [ 1.        ,  4.51780822,  1.        ],\n",
       "       [ 1.        ,  3.03561644,  1.        ],\n",
       "       [ 1.        ,  5.28767123,  1.        ],\n",
       "       [ 1.        ,  3.04657534,  1.        ],\n",
       "       [ 1.        ,  5.25956284,  1.        ],\n",
       "       [ 1.        ,  5.94246575,  1.        ],\n",
       "       [ 1.        ,  5.2739726 ,  1.        ],\n",
       "       [ 1.        ,  5.22739726,  1.        ],\n",
       "       [ 1.        , 13.        ,  0.        ],\n",
       "       [ 1.        ,  9.        ,  0.        ],\n",
       "       [ 1.        , 14.        ,  0.        ],\n",
       "       [ 1.        ,  9.        ,  0.        ],\n",
       "       [ 1.        , 10.        ,  0.        ],\n",
       "       [ 1.        ,  4.63835616,  1.        ],\n",
       "       [ 1.        ,  4.48493151,  1.        ],\n",
       "       [ 1.        ,  2.99726027,  1.        ],\n",
       "       [ 1.        ,  6.07103825,  1.        ],\n",
       "       [ 1.        , 13.        ,  0.        ],\n",
       "       [ 1.        , 10.        ,  0.        ],\n",
       "       [ 1.        ,  8.        ,  0.        ],\n",
       "       [ 1.        , 13.        ,  0.        ],\n",
       "       [ 1.        , 10.        ,  0.        ],\n",
       "       [ 1.        ,  9.        ,  0.        ],\n",
       "       [ 1.        , 14.        ,  0.        ],\n",
       "       [ 1.        ,  8.        ,  0.        ],\n",
       "       [ 1.        ,  9.        ,  0.        ],\n",
       "       [ 1.        , 19.        ,  0.        ],\n",
       "       [ 1.        , 24.        ,  0.        ],\n",
       "       [ 1.        , 13.        ,  0.        ],\n",
       "       [ 1.        , 24.        ,  0.        ],\n",
       "       [ 1.        , 22.        ,  0.        ],\n",
       "       [ 1.        , 23.        ,  0.        ],\n",
       "       [ 1.        , 12.        ,  0.        ],\n",
       "       [ 1.        , 14.        ,  0.        ],\n",
       "       [ 1.        , 13.        ,  0.        ],\n",
       "       [ 1.        , 17.        ,  0.        ],\n",
       "       [ 1.        ,  8.        ,  0.        ],\n",
       "       [ 1.        , 15.        ,  0.        ],\n",
       "       [ 1.        , 12.        ,  0.        ],\n",
       "       [ 1.        ,  9.        ,  0.        ],\n",
       "       [ 1.        , 12.        ,  0.        ],\n",
       "       [ 1.        ,  9.        ,  0.        ],\n",
       "       [ 1.        ,  9.        ,  0.        ],\n",
       "       [ 1.        , 24.        ,  0.        ],\n",
       "       [ 1.        , 17.        ,  0.        ],\n",
       "       [ 1.        , 14.        ,  0.        ],\n",
       "       [ 1.        , 12.        ,  0.        ],\n",
       "       [ 1.        , 13.        ,  0.        ],\n",
       "       [ 1.        , 13.        ,  0.        ],\n",
       "       [ 1.        , 11.        ,  0.        ],\n",
       "       [ 1.        , 16.        ,  0.        ],\n",
       "       [ 1.        , 13.        ,  0.        ],\n",
       "       [ 1.        , 10.        ,  0.        ],\n",
       "       [ 1.        , 18.        ,  0.        ],\n",
       "       [ 1.        , 10.        ,  0.        ],\n",
       "       [ 1.        , 14.        ,  0.        ],\n",
       "       [ 1.        , 15.        ,  0.        ],\n",
       "       [ 1.        , 22.        ,  0.        ],\n",
       "       [ 1.        , 11.        ,  0.        ],\n",
       "       [ 1.        , 10.        ,  0.        ],\n",
       "       [ 1.        , 14.        ,  0.        ],\n",
       "       [ 1.        , 23.        ,  0.        ],\n",
       "       [ 1.        , 10.        ,  0.        ],\n",
       "       [ 1.        , 14.        ,  0.        ],\n",
       "       [ 1.        , 11.        ,  0.        ],\n",
       "       [ 1.        , 15.        ,  0.        ],\n",
       "       [ 1.        ,  8.        ,  0.        ]])"
      ]
     },
     "execution_count": 73,
     "metadata": {},
     "output_type": "execute_result"
    }
   ],
   "source": [
    "\n",
    "xs"
   ]
  },
  {
   "cell_type": "code",
   "execution_count": 9,
   "metadata": {},
   "outputs": [
    {
     "data": {
      "text/plain": [
       "array([0, 0, 0, 0, 0, 0, 0, 0, 0, 0, 0, 0, 0, 0, 0, 0, 0, 0, 0, 0, 0, 0,\n",
       "       0, 0, 0, 0, 0, 0, 1, 1, 1, 1, 1, 1, 1, 1, 1, 1, 1, 1, 1, 1, 1, 1,\n",
       "       1, 1, 1, 1, 1, 1, 1, 1, 1, 1, 1, 1, 1, 1, 1, 1, 1, 1, 1, 1, 1, 1,\n",
       "       1, 1, 1, 1, 1, 1, 1, 1, 1, 1, 1, 1, 1, 1, 1, 1])"
      ]
     },
     "execution_count": 9,
     "metadata": {},
     "output_type": "execute_result"
    }
   ],
   "source": [
    "ys"
   ]
  },
  {
   "cell_type": "code",
   "execution_count": 74,
   "metadata": {},
   "outputs": [
    {
     "name": "stdout",
     "output_type": "stream",
     "text": [
      "Optimization terminated successfully.\n",
      "         Current function value: 0.327550\n",
      "         Iterations 8\n"
     ]
    }
   ],
   "source": [
    "mod=sm.Logit(ys,xs)\n",
    "result=mod.fit(method='newton')"
   ]
  },
  {
   "cell_type": "code",
   "execution_count": 75,
   "metadata": {},
   "outputs": [
    {
     "name": "stdout",
     "output_type": "stream",
     "text": [
      "28\n",
      "54\n",
      "82\n"
     ]
    }
   ],
   "source": [
    "print(len(x_theta))\n",
    "print(len(x_alpha))\n",
    "print(len(xs))"
   ]
  },
  {
   "cell_type": "code",
   "execution_count": 9,
   "metadata": {},
   "outputs": [],
   "source": [
    "res_pred=result.predict(xs)"
   ]
  },
  {
   "cell_type": "code",
   "execution_count": 76,
   "metadata": {
    "scrolled": true
   },
   "outputs": [
    {
     "data": {
      "text/html": [
       "<table class=\"simpletable\">\n",
       "<caption>Logit Regression Results</caption>\n",
       "<tr>\n",
       "  <th>Dep. Variable:</th>           <td>y</td>        <th>  No. Observations:  </th>  <td>    82</td>  \n",
       "</tr>\n",
       "<tr>\n",
       "  <th>Model:</th>                 <td>Logit</td>      <th>  Df Residuals:      </th>  <td>    79</td>  \n",
       "</tr>\n",
       "<tr>\n",
       "  <th>Method:</th>                 <td>MLE</td>       <th>  Df Model:          </th>  <td>     2</td>  \n",
       "</tr>\n",
       "<tr>\n",
       "  <th>Date:</th>            <td>Fri, 10 Jul 2020</td> <th>  Pseudo R-squ.:     </th>  <td>0.4898</td>  \n",
       "</tr>\n",
       "<tr>\n",
       "  <th>Time:</th>                <td>13:43:54</td>     <th>  Log-Likelihood:    </th> <td> -26.859</td> \n",
       "</tr>\n",
       "<tr>\n",
       "  <th>converged:</th>             <td>True</td>       <th>  LL-Null:           </th> <td> -52.644</td> \n",
       "</tr>\n",
       "<tr>\n",
       "  <th>Covariance Type:</th>     <td>nonrobust</td>    <th>  LLR p-value:       </th> <td>6.335e-12</td>\n",
       "</tr>\n",
       "</table>\n",
       "<table class=\"simpletable\">\n",
       "<tr>\n",
       "    <td></td>       <th>coef</th>     <th>std err</th>      <th>z</th>      <th>P>|z|</th>  <th>[0.025</th>    <th>0.975]</th>  \n",
       "</tr>\n",
       "<tr>\n",
       "  <th>const</th> <td>   -0.3120</td> <td>    1.879</td> <td>   -0.166</td> <td> 0.868</td> <td>   -3.995</td> <td>    3.371</td>\n",
       "</tr>\n",
       "<tr>\n",
       "  <th>x1</th>    <td>    0.2162</td> <td>    0.164</td> <td>    1.318</td> <td> 0.187</td> <td>   -0.105</td> <td>    0.538</td>\n",
       "</tr>\n",
       "<tr>\n",
       "  <th>x2</th>    <td>   -2.3810</td> <td>    1.308</td> <td>   -1.820</td> <td> 0.069</td> <td>   -4.945</td> <td>    0.183</td>\n",
       "</tr>\n",
       "</table>"
      ],
      "text/plain": [
       "<class 'statsmodels.iolib.summary.Summary'>\n",
       "\"\"\"\n",
       "                           Logit Regression Results                           \n",
       "==============================================================================\n",
       "Dep. Variable:                      y   No. Observations:                   82\n",
       "Model:                          Logit   Df Residuals:                       79\n",
       "Method:                           MLE   Df Model:                            2\n",
       "Date:                Fri, 10 Jul 2020   Pseudo R-squ.:                  0.4898\n",
       "Time:                        13:43:54   Log-Likelihood:                -26.859\n",
       "converged:                       True   LL-Null:                       -52.644\n",
       "Covariance Type:            nonrobust   LLR p-value:                 6.335e-12\n",
       "==============================================================================\n",
       "                 coef    std err          z      P>|z|      [0.025      0.975]\n",
       "------------------------------------------------------------------------------\n",
       "const         -0.3120      1.879     -0.166      0.868      -3.995       3.371\n",
       "x1             0.2162      0.164      1.318      0.187      -0.105       0.538\n",
       "x2            -2.3810      1.308     -1.820      0.069      -4.945       0.183\n",
       "==============================================================================\n",
       "\"\"\""
      ]
     },
     "execution_count": 76,
     "metadata": {},
     "output_type": "execute_result"
    }
   ],
   "source": [
    "result.summary()"
   ]
  },
  {
   "cell_type": "code",
   "execution_count": 11,
   "metadata": {},
   "outputs": [],
   "source": [
    "pred_input=np.linspace(3,np.max(xs[:,1])+20,20008)\n",
    "pred_input=sm.add_constant(pred_input)\n",
    "predictions=result.predict(pred_input)"
   ]
  },
  {
   "cell_type": "code",
   "execution_count": 13,
   "metadata": {},
   "outputs": [
    {
     "name": "stdout",
     "output_type": "stream",
     "text": [
      "[0.49996735 0.50022836 0.50048937 0.50075039 0.5010114  0.50127241\n",
      " 0.50153342 0.50179443 0.50205544 0.50231645]\n",
      "[[1.         7.19078323]\n",
      " [1.         7.19283251]\n",
      " [1.         7.19488179]\n",
      " [1.         7.19693107]\n",
      " [1.         7.19898036]\n",
      " [1.         7.20102964]\n",
      " [1.         7.20307892]\n",
      " [1.         7.20512821]\n",
      " [1.         7.20717749]\n",
      " [1.         7.20922677]]\n"
     ]
    }
   ],
   "source": [
    "print(predictions[2045:2055])\n",
    "print(pred_input[2045:2055])"
   ]
  },
  {
   "cell_type": "markdown",
   "metadata": {},
   "source": [
    "## Plot results"
   ]
  },
  {
   "cell_type": "code",
   "execution_count": 77,
   "metadata": {},
   "outputs": [],
   "source": [
    "jitter_y=([y+np.random.uniform(-0.045,0.045) for y in ys])\n",
    "len(jitter_y)==len(y_theta+y_alpha)\n",
    "scatPlotDf=pd.DataFrame()\n",
    "scatPlotDf['freqLabel']=theta_labels+alpha_labels\n",
    "scatPlotDf['y']=jitter_y\n",
    "scatPlotDf['age']=x_theta+x_alpha"
   ]
  },
  {
   "cell_type": "code",
   "execution_count": 78,
   "metadata": {},
   "outputs": [
    {
     "ename": "NameError",
     "evalue": "name 'pred_input' is not defined",
     "output_type": "error",
     "traceback": [
      "\u001b[0;31m---------------------------------------------------------------------------\u001b[0m",
      "\u001b[0;31mNameError\u001b[0m                                 Traceback (most recent call last)",
      "\u001b[0;32m<ipython-input-78-89266d5bde20>\u001b[0m in \u001b[0;36m<module>\u001b[0;34m\u001b[0m\n\u001b[1;32m      2\u001b[0m \u001b[0;31m#plt.scatter(xs[:,1],jitter_y)\u001b[0m\u001b[0;34m\u001b[0m\u001b[0;34m\u001b[0m\u001b[0;34m\u001b[0m\u001b[0m\n\u001b[1;32m      3\u001b[0m \u001b[0msns\u001b[0m\u001b[0;34m.\u001b[0m\u001b[0mscatterplot\u001b[0m\u001b[0;34m(\u001b[0m\u001b[0mx\u001b[0m\u001b[0;34m=\u001b[0m\u001b[0;34m'age'\u001b[0m\u001b[0;34m,\u001b[0m\u001b[0my\u001b[0m\u001b[0;34m=\u001b[0m\u001b[0;34m'y'\u001b[0m\u001b[0;34m,\u001b[0m\u001b[0mdata\u001b[0m\u001b[0;34m=\u001b[0m\u001b[0mscatPlotDf\u001b[0m\u001b[0;34m,\u001b[0m\u001b[0my_jitter\u001b[0m\u001b[0;34m=\u001b[0m\u001b[0;36m0.04\u001b[0m\u001b[0;34m,\u001b[0m\u001b[0max\u001b[0m\u001b[0;34m=\u001b[0m\u001b[0max\u001b[0m\u001b[0;34m,\u001b[0m\u001b[0mhue\u001b[0m\u001b[0;34m=\u001b[0m\u001b[0;34m'age'\u001b[0m\u001b[0;34m)\u001b[0m\u001b[0;34m\u001b[0m\u001b[0;34m\u001b[0m\u001b[0m\n\u001b[0;32m----> 4\u001b[0;31m \u001b[0mplt\u001b[0m\u001b[0;34m.\u001b[0m\u001b[0mplot\u001b[0m\u001b[0;34m(\u001b[0m\u001b[0mpred_input\u001b[0m\u001b[0;34m[\u001b[0m\u001b[0;34m:\u001b[0m\u001b[0;34m,\u001b[0m\u001b[0;36m1\u001b[0m\u001b[0;34m]\u001b[0m\u001b[0;34m,\u001b[0m\u001b[0mpredictions\u001b[0m\u001b[0;34m)\u001b[0m\u001b[0;34m\u001b[0m\u001b[0;34m\u001b[0m\u001b[0m\n\u001b[0m\u001b[1;32m      5\u001b[0m \u001b[0mplt\u001b[0m\u001b[0;34m.\u001b[0m\u001b[0mxlim\u001b[0m\u001b[0;34m(\u001b[0m\u001b[0;36m0\u001b[0m\u001b[0;34m,\u001b[0m\u001b[0;36m25\u001b[0m\u001b[0;34m)\u001b[0m\u001b[0;34m\u001b[0m\u001b[0;34m\u001b[0m\u001b[0m\n\u001b[1;32m      6\u001b[0m \u001b[0mplt\u001b[0m\u001b[0;34m.\u001b[0m\u001b[0maxhline\u001b[0m\u001b[0;34m(\u001b[0m\u001b[0;36m.5\u001b[0m\u001b[0;34m)\u001b[0m\u001b[0;34m\u001b[0m\u001b[0;34m\u001b[0m\u001b[0m\n",
      "\u001b[0;31mNameError\u001b[0m: name 'pred_input' is not defined"
     ]
    },
    {
     "data": {
      "image/png": "[encoded data removed]",
      "text/plain": [
       "<Figure size 720x1080 with 1 Axes>"
      ]
     },
     "metadata": {
      "needs_background": "light"
     },
     "output_type": "display_data"
    }
   ],
   "source": [
    "fig,ax=plt.subplots(figsize=(10,15))\n",
    "#plt.scatter(xs[:,1],jitter_y)\n",
    "sns.scatterplot(x='age',y='y',data=scatPlotDf,y_jitter=0.04,ax=ax,hue='age')\n",
    "plt.plot(pred_input[:,1],predictions)\n",
    "plt.xlim(0,25)\n",
    "plt.axhline(.5)"
   ]
  },
  {
   "cell_type": "code",
   "execution_count": null,
   "metadata": {},
   "outputs": [],
   "source": []
  }
 ],
 "metadata": {
  "kernelspec": {
   "display_name": "Python 3",
   "language": "python",
   "name": "python3"
  },
  "language_info": {
   "codemirror_mode": {
    "name": "ipython",
    "version": 3
   },
   "file_extension": ".py",
   "mimetype": "text/x-python",
   "name": "python",
   "nbconvert_exporter": "python",
   "pygments_lexer": "ipython3",
   "version": "3.6.10"
  }
 },
 "nbformat": 4,
 "nbformat_minor": 2
}
